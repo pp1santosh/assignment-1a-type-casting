{
 "cells": [
  {
   "cell_type": "code",
   "execution_count": null,
   "id": "769e7eb0",
   "metadata": {},
   "outputs": [],
   "source": [
    "# 1. conversion of interger to float\n",
    "num=int(input(\"enter an integer value\\t\"))\n",
    "flot_val=float(num)  # type casting integer to float \n",
    "print(f\"new converted form ..{type(flot_val)}\")\n"
   ]
  },
  {
   "cell_type": "code",
   "execution_count": null,
   "id": "839d6de0",
   "metadata": {},
   "outputs": [],
   "source": [
    "#2 sol\n",
    "num=float(input(\"enter a float  value\\t\"))\n",
    "integer_val=int(num)  # typecasting float to integer \n",
    "print(f\"new converted form ..{type(integer_val)}\")"
   ]
  },
  {
   "cell_type": "code",
   "execution_count": null,
   "id": "569deb64",
   "metadata": {},
   "outputs": [],
   "source": [
    "#3sol\n",
    "number=20\n",
    "converted=str(number)  # integer converted to string\n",
    "print(f\"integer converted to string {type(converted)}\")\n",
    "\n"
   ]
  },
  {
   "cell_type": "code",
   "execution_count": null,
   "id": "ba92456b",
   "metadata": {},
   "outputs": [],
   "source": [
    "#4sol\n",
    "lst_1=[20,30,\"ram\",2.0,3+2j]\n",
    "tup_1=tuple(lst_1)\n",
    "print( \"list converted to tuple\\t,\",tup_1)\n"
   ]
  },
  {
   "cell_type": "code",
   "execution_count": null,
   "id": "6db516c3",
   "metadata": {},
   "outputs": [],
   "source": [
    "#5 sol\n",
    "tup_2=(10,25,\"ram\",2.0,3+2j)\n",
    "lst_2=list(tup_2)\n",
    "print( \"tuple converted to list\\t,\",lst_2)\n"
   ]
  },
  {
   "cell_type": "code",
   "execution_count": null,
   "id": "bdbfd3f2",
   "metadata": {},
   "outputs": [],
   "source": [
    "#6sol\n",
    "number=int(input(\"enter a number\"))\n",
    "binary_bit=bin(number)\n",
    "print(\"the binary value if decimal is\\t\",binary_bit)\n"
   ]
  },
  {
   "cell_type": "code",
   "execution_count": null,
   "id": "0258d8f0",
   "metadata": {},
   "outputs": [],
   "source": [
    "#7 sol\n",
    "num=int(input(\"enter a integer\"))\n",
    "print(\"boolean value of entered number is\\t \",bool(num))\n"
   ]
  }
 ],
 "metadata": {
  "kernelspec": {
   "display_name": "Python 3 (ipykernel)",
   "language": "python",
   "name": "python3"
  },
  "language_info": {
   "codemirror_mode": {
    "name": "ipython",
    "version": 3
   },
   "file_extension": ".py",
   "mimetype": "text/x-python",
   "name": "python",
   "nbconvert_exporter": "python",
   "pygments_lexer": "ipython3",
   "version": "3.9.13"
  }
 },
 "nbformat": 4,
 "nbformat_minor": 5
}
